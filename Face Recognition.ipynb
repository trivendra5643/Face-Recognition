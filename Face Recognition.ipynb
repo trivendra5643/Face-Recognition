{
 "cells": [
  {
   "cell_type": "code",
   "execution_count": 14,
   "id": "00baf835",
   "metadata": {},
   "outputs": [],
   "source": [
    "import cv2\n",
    "import numpy as np"
   ]
  },
  {
   "cell_type": "markdown",
   "id": "06b40241",
   "metadata": {},
   "source": [
    "### cv2.VideoCapture.read?\n",
    "read([, image]) -> retval, image\n",
    ".   @brief Grabs, decodes and returns the next video frame.\n",
    ".   \n",
    ".       @param [out] image the video frame is returned here. If no frames has been grabbed the image will be empty.\n",
    ".       @return `false` if no frames has been grabbed\n",
    ".   \n",
    ".       The method/function combines VideoCapture::grab() and VideoCapture::retrieve() in one call. This is the\n",
    ".       most convenient method for reading video files or capturing data from decode and returns the just\n",
    ".       grabbed frame. If no frames has been grabbed (camera has been disconnected, or there are no more\n",
    ".       frames in video file), the method returns false and the function returns empty image (with %cv::Mat, test it with Mat::empty())."
   ]
  },
  {
   "cell_type": "markdown",
   "id": "736eb3bf",
   "metadata": {},
   "source": [
    "### cv2.CascadeClassifier.detectMultiScale?\n",
    "detectMultiScale(image[, scaleFactor[, minNeighbors[, flags[, minSize[, maxSize]]]]]) -> objects\n",
    ".   @brief Detects objects of different sizes in the input image. The detected objects are returned as a list\n",
    ".       of rectangles.\n",
    ".   \n",
    ".       @param image Matrix of the type CV_8U containing an image where objects are detected.\n",
    ".       @param objects Vector of rectangles where each rectangle contains the detected object, the\n",
    ".       rectangles may be partially outside the original image.\n",
    ".       @param scaleFactor Parameter specifying how much the image size is reduced at each image scale.\n",
    ".       @param minNeighbors Parameter specifying how many neighbors each candidate rectangle should have\n",
    ".       to retain it.\n",
    ".       @param flags Parameter with the same meaning for an old cascade as in the function\n",
    ".       cvHaarDetectObjects. It is not used for a new cascade.\n",
    ".       @param minSize Minimum possible object size. Objects smaller than that are ignored.\n",
    ".       @param maxSize Maximum possible object size. Objects larger than that are ignored. If `maxSize == minSize` model is evaluated on single scale."
   ]
  },
  {
   "cell_type": "code",
   "execution_count": 7,
   "id": "60de7858",
   "metadata": {},
   "outputs": [],
   "source": [
    "cv2.rectangle?"
   ]
  },
  {
   "cell_type": "markdown",
   "id": "600f11b8",
   "metadata": {},
   "source": [
    "### cv2.waitKey?\n",
    "waitKey([, delay]) -> retval\n",
    ".   @brief Waits for a pressed key.\n",
    ".   \n",
    ".   The function waitKey waits for a key event infinitely (when \\f$\\texttt{delay}\\leq 0\\f$ ) or for delay\n",
    ".   milliseconds, when it is positive. Since the OS has a minimum time between switching threads, the\n",
    ".   function will not wait exactly delay ms, it will wait at least delay ms, depending on what else is\n",
    ".   running on your computer at that time. It returns the code of the pressed key or -1 if no key was\n",
    ".   pressed before the specified time had elapsed. To check for a key press but not wait for it, use\n",
    ".   #pollKey.\n",
    ".   \n",
    ".   @note The functions #waitKey and #pollKey are the only methods in HighGUI that can fetch and handle\n",
    ".   GUI events, so one of them needs to be called periodically for normal event processing unless\n",
    ".   HighGUI is used within an environment that takes care of event processing.\n",
    ".   \n",
    ".   @note The function only works if there is at least one HighGUI window created and the window is\n",
    ".   active. If there are several HighGUI windows, any of them can be active."
   ]
  },
  {
   "cell_type": "code",
   "execution_count": 11,
   "id": "30feb12e",
   "metadata": {},
   "outputs": [
    {
     "data": {
      "text/plain": [
       "255"
      ]
     },
     "execution_count": 11,
     "metadata": {},
     "output_type": "execute_result"
    }
   ],
   "source": [
    "0xFF"
   ]
  },
  {
   "cell_type": "code",
   "execution_count": 12,
   "id": "e051d62d",
   "metadata": {},
   "outputs": [
    {
     "data": {
      "text/plain": [
       "113"
      ]
     },
     "execution_count": 12,
     "metadata": {},
     "output_type": "execute_result"
    }
   ],
   "source": [
    "ord('q')"
   ]
  },
  {
   "cell_type": "code",
   "execution_count": 20,
   "id": "ed81bd1a",
   "metadata": {},
   "outputs": [
    {
     "data": {
      "text/plain": [
       "list"
      ]
     },
     "execution_count": 20,
     "metadata": {},
     "output_type": "execute_result"
    }
   ],
   "source": [
    "arr = [1, 3, 7, 5, 11, 9]\n",
    "type(arr)"
   ]
  },
  {
   "cell_type": "code",
   "execution_count": 22,
   "id": "52a7edb4",
   "metadata": {},
   "outputs": [
    {
     "data": {
      "text/plain": [
       "9"
      ]
     },
     "execution_count": 22,
     "metadata": {},
     "output_type": "execute_result"
    }
   ],
   "source": [
    "arr[-1]"
   ]
  },
  {
   "cell_type": "code",
   "execution_count": null,
   "id": "7ebf8ba1",
   "metadata": {},
   "outputs": [],
   "source": []
  }
 ],
 "metadata": {
  "kernelspec": {
   "display_name": "Python 3 (ipykernel)",
   "language": "python",
   "name": "python3"
  },
  "language_info": {
   "codemirror_mode": {
    "name": "ipython",
    "version": 3
   },
   "file_extension": ".py",
   "mimetype": "text/x-python",
   "name": "python",
   "nbconvert_exporter": "python",
   "pygments_lexer": "ipython3",
   "version": "3.10.4"
  }
 },
 "nbformat": 4,
 "nbformat_minor": 5
}
